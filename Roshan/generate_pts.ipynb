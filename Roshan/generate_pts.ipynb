{
 "cells": [
  {
   "cell_type": "code",
   "execution_count": 3,
   "metadata": {},
   "outputs": [
    {
     "name": "stdout",
     "output_type": "stream",
     "text": [
      "[[0.00666667 1.        ]\n",
      " [0.00666667 0.99333333]\n",
      " [0.01333333 1.        ]\n",
      " ...\n",
      " [0.98666667 0.98      ]\n",
      " [0.99333333 1.        ]\n",
      " [0.99333333 0.99333333]]\n"
     ]
    }
   ],
   "source": [
    "import pickle\n",
    "\n",
    "\n",
    "with open('experimental_coords.pkl', 'rb') as f:\n",
    "    data = pickle.load(f)\n",
    "\n"
   ]
  }
 ],
 "metadata": {
  "kernelspec": {
   "display_name": "Python 3.9.7 ('base')",
   "language": "python",
   "name": "python3"
  },
  "language_info": {
   "codemirror_mode": {
    "name": "ipython",
    "version": 3
   },
   "file_extension": ".py",
   "mimetype": "text/x-python",
   "name": "python",
   "nbconvert_exporter": "python",
   "pygments_lexer": "ipython3",
   "version": "3.9.7"
  },
  "orig_nbformat": 4,
  "vscode": {
   "interpreter": {
    "hash": "477a0f62557403ea46e62fafa26ab57be90e3d890bd8dd0e061951eddd197ff7"
   }
  }
 },
 "nbformat": 4,
 "nbformat_minor": 2
}
