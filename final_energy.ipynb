{
 "cells": [
  {
   "cell_type": "code",
   "execution_count": null,
   "metadata": {},
   "outputs": [],
   "source": []
  },
  {
   "cell_type": "markdown",
   "metadata": {},
   "source": []
  },
  {
   "cell_type": "code",
   "execution_count": null,
   "metadata": {},
   "outputs": [],
   "source": [
    "import numpy as np\n",
    "import methods as m\n",
    "%matplotlib widget\n",
    "%load_ext autoreload\n",
    "%autoreload 2\n",
    "sd = np.random.randint(low=10, high=10000)\n",
    "# sd = 82\n",
    "\n",
    "# np.array([1,0,0])\n",
    "\n",
    "print(\"seed\", sd)\n",
    "np.random.seed(sd)\n",
    "\n",
    "map = m.getmap3D()\n",
    "pts = m.getRD(2, 50, seed=sd)\n",
    "m.plot_points3D(map, pts)\n",
    "\n",
    "horizontal = (((1-pts[:,0])**2 + pts[:,1]**2)**(1/2))\n",
    "m.drawheatmap(m.getmap2D(), horizontal, pts[:,2], 64)\n",
    "\n",
    "axhist1 = m.getmapaxdef2D()\n",
    "axhist2 = m.getmapaxdef2D()\n",
    "\n",
    "axhist1.hist(horizontal);\n",
    "axhist2.hist(pts[:,2]);"
   ]
  },
  {
   "cell_type": "code",
   "execution_count": null,
   "metadata": {},
   "outputs": [],
   "source": []
  },
  {
   "cell_type": "code",
   "execution_count": null,
   "metadata": {},
   "outputs": [],
   "source": []
  }
 ],
 "metadata": {
  "kernelspec": {
   "display_name": "Python 3.9.7 ('base')",
   "language": "python",
   "name": "python3"
  },
  "language_info": {
   "codemirror_mode": {
    "name": "ipython",
    "version": 3
   },
   "file_extension": ".py",
   "mimetype": "text/x-python",
   "name": "python",
   "nbconvert_exporter": "python",
   "pygments_lexer": "ipython3",
   "version": "3.9.7"
  },
  "orig_nbformat": 4,
  "vscode": {
   "interpreter": {
    "hash": "477a0f62557403ea46e62fafa26ab57be90e3d890bd8dd0e061951eddd197ff7"
   }
  }
 },
 "nbformat": 4,
 "nbformat_minor": 2
}
