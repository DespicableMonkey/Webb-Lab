{
 "cells": [
  {
   "cell_type": "code",
   "execution_count": 51,
   "metadata": {},
   "outputs": [
    {
     "name": "stdout",
     "output_type": "stream",
     "text": [
      "https://www.polymerdatabase.com/polymer%20index/S-V index2.html\n",
      "https://www.polymerdatabase.com/polymer%20index/S-V index.html\n",
      "https://www.polymerdatabase.com/polymer%20index/M-P index2.html\n",
      "https://www.polymerdatabase.com/polymer%20index/M-P index.html\n",
      "https://www.polymerdatabase.com/polymer%20index/G-L index2.html\n",
      "https://www.polymerdatabase.com/polymer%20index/G-L index.html\n",
      "https://www.polymerdatabase.com/polymer%20index/E-F index.html\n",
      "https://www.polymerdatabase.com/polymer%20index/C-D index.html\n"
     ]
    }
   ],
   "source": [
    "import requests\n",
    "from bs4 import BeautifulSoup\n",
    "\n",
    "\n",
    "links = []\n",
    "\n",
    "def get_links(link):\n",
    "\n",
    "\tr2 = requests.get(link)\n",
    "\tsoup2 = BeautifulSoup(req.content, \"html.parser\")\n",
    "\ttable = soup2.findAll('td', attrs = {'class':'auto-style8'})\n",
    "\n",
    "\tfor row in table:\n",
    "\t\tfor e in row.findAll('a'):\n",
    "\t\t\tprint(e['href'])\n",
    "\t\t\tlinks.append(e['href'])\n",
    "\n",
    "def begin(link, i):\n",
    "\tget_links(link)\n",
    "\treq = requests.get(link)\n",
    "\tsoup = BeautifulSoup(req.content, \"html.parser\")\n",
    "\tfor tag in soup.findAll('a'):\n",
    "\t\tif(\"Next\" in str(tag.text) or \"More\" in str(tag.text)):\n",
    "\t\t\tlink = \"https://www.polymerdatabase.com/polymer%20index/\" + tag['href'] \n",
    "\t\t\tbegin(link, i)\n",
    "\t\t\t\n",
    "\t\t\t# print(link)\n",
    "\n",
    "begin(\"https://www.polymerdatabase.com/polymer%20index/home.html\", 0)\n",
    "\n",
    "        \n"
   ]
  }
 ],
 "metadata": {
  "kernelspec": {
   "display_name": "Python 3.9.10 64-bit",
   "language": "python",
   "name": "python3"
  },
  "language_info": {
   "codemirror_mode": {
    "name": "ipython",
    "version": 3
   },
   "file_extension": ".py",
   "mimetype": "text/x-python",
   "name": "python",
   "nbconvert_exporter": "python",
   "pygments_lexer": "ipython3",
   "version": "3.9.10"
  },
  "orig_nbformat": 4,
  "vscode": {
   "interpreter": {
    "hash": "aee8b7b246df8f9039afb4144a1f6fd8d2ca17a180786b69acc140d282b71a49"
   }
  }
 },
 "nbformat": 4,
 "nbformat_minor": 2
}
